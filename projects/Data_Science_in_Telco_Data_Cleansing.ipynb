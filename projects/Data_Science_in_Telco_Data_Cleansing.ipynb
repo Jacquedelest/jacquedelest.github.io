{
  "nbformat": 4,
  "nbformat_minor": 0,
  "metadata": {
    "colab": {
      "name": "Data Science in Telco: Data Cleansing",
      "provenance": []
    },
    "kernelspec": {
      "name": "python3",
      "display_name": "Python 3"
    },
    "language_info": {
      "name": "python"
    }
  },
  "cells": [
    {
      "cell_type": "markdown",
      "metadata": {
        "id": "szuSP7IGjBuj"
      },
      "source": [
        "---\n",
        "\n",
        "Title: \"Data Science in Telco: Data Cleansing\"\n",
        "\n",
        "Author: \"Joseph Armando Carvallo\"\n",
        "\n",
        "Date: \"21/03/2021\"\n",
        "\n",
        "---"
      ]
    },
    {
      "cell_type": "markdown",
      "metadata": {
        "id": "YCZ9pvEJkagQ"
      },
      "source": [
        "DQLab Telco is a Telco company that already has many branches spread everywhere. Since its establishment in 2019, DQLab Telco has been consistent in paying attention to its customer experience so that customers will not leave it. Even though it's only a little over 1 year old company, DQLab Telco already has many customers who have switched subscriptions to competitors. The management wants to reduce the number of churn customers by using machine learning.\n",
        "\n",
        "Therefore, the Data Scientist team was asked to prepare the data as well as to make the right prediction model to determine whether a customer will churn or not."
      ]
    },
    {
      "cell_type": "markdown",
      "metadata": {
        "id": "MtlBnuhilZD3"
      },
      "source": [
        "As a Data Scientist, I was asked to prepare the data before doing the modeling.\n",
        "I will do Data Preprocessing (Data Cleansing) last month, which is June 2020. The steps to be taken are,\n",
        "1. Looking for a valid customer ID or telphone number\n",
        "2. Handling data that is still empty or missing values\n",
        "3. Handling outlier values from each variable\n",
        "4. Standardizing values of variables\n",
        "\n",
        "The Python package that I will be using in doing the analysis are\n",
        "* Pandas (Python for Data Analysis) is a Python library that focuses on data analysis processes such as data manipulation, data preparation, and data cleaning.\n",
        "* Matplotlib is a Python library that focuses on data visualization such as plotting graphs. Matplotlib can be used in Python scripts, Python and IPython shells, web application servers, and several other graphical user interface (GUI) toolkits.\n",
        "* Seaborn builds on Matplotlib and introduces additional plot types. It also makes your traditional Matplotlib plots look attractive.\n",
        "\n",
        "For the dataset used, it is provided in csv format, it can be downloaded at https://storage.googleapis.com/dqlab-dataset/dqlab_telco.csv"
      ]
    },
    {
      "cell_type": "markdown",
      "metadata": {
        "id": "2OpWzpj2opPg"
      },
      "source": [
        "The detailed data are as follows:\n",
        "\n",
        "`UpdatedAt` is the period of data taken\n",
        "\n",
        "`customerID` is phone number of customer\n",
        "\n",
        "`gender` is gender of customer, the values in format male or female\n",
        "\n",
        "`SeniorCitizen` is seniority status of customer, the values in format 1 (yes) or 0 (no)\n",
        "\n",
        "`Partner` is marital status of customer, the values in format Yes or No\n",
        "\n",
        "`Dependents` is dependents of customer, the values in format Yes or No\n",
        "\n",
        "`tenure` is number of months customer has stayed with the company\n",
        "\n",
        "`PhoneService`is whether customer has phone service or not, the values in format Yes or No\n",
        "\n",
        "`MultipleLines` is whether customer has multiple lines or not, the values in format Yes, No, or No phone service\n",
        "\n",
        "`InternetService` is internet service provider of customer, the values in format DSL, Fiber optic, or No\n",
        "\n",
        "`OnlineSecurity`is whether customer has online security or not,  the values in format Yes, No, or No internet service\n",
        "\n",
        "`OnlineBackup` is whether customer has online backup or not, the values in format Yes, No, or No internet service\n",
        "\n",
        "`DeviceProtection` is whhether customer has device protection or not, the values in format Yes, No, or No internet service\n",
        "\n",
        "`TechSupport` is whether customer has tech support or not, the values in format Yes, No, or No internet service\n",
        "\n",
        "`StreamingTV` is whether customer has streaming TV or not, the values in format Yes, No, or No internet service\n",
        "\n",
        "`StreamingMovies` is whether customer has streaming movies or not, the values in format Yes, No, or No internet service\n",
        "\n",
        "`Contract` is the contract term of customer, the values in format Month-to-month, One year, or Two year\n",
        "\n",
        "`PaperlessBilling` is whether the customer has paperless billing or not, the values in format Yes or No\n",
        "\n",
        "`PaymentMethod` is the payment method of customer, the values in format Electronic check, Mailed check, Bank transfer (automatic), or Credit card (automatic)\n",
        "\n",
        "`MonthlyCharges` is the amount charged to the customer monthly\n",
        "\n",
        "`TotalCharges` is the total amount charged to the customer\n",
        "\n",
        "`Churn` is whether the customer churned or not, the values in format Yes or No"
      ]
    },
    {
      "cell_type": "markdown",
      "metadata": {
        "id": "VCTIgTqXt8_q"
      },
      "source": [
        "**Import Libraries and Datasets**\n",
        "\n",
        "Based on the explanation of the libraries and datasets that will be used, now the first thing I am going to do is to import the libraries and datasets into the workspace. After the dataset is imported into the workspace, I am displaying the number of columns and rows of the data set using `.shape` and print the first five rows using `.head()` and I am finding out how many unique customerID values are using `.nunique()`"
      ]
    },
    {
      "cell_type": "code",
      "metadata": {
        "colab": {
          "base_uri": "https://localhost:8080/",
          "height": 309
        },
        "id": "kn3K2O7Gi5c0",
        "outputId": "b9a9b155-f3ad-4f5a-fb6a-eb0d459c59fa"
      },
      "source": [
        "import pandas as pd\n",
        "\n",
        "# Facilitate the appearance of row data\n",
        "pd.options.display.max_columns = 50\n",
        "\n",
        "# Importing Data Source\n",
        "df_load = pd.read_csv('https://storage.googleapis.com/dqlab-dataset/dqlab_telco.csv')\n",
        "print(\"Size of dataset\", df_load.shape)\n",
        "df_load.head(5)"
      ],
      "execution_count": null,
      "outputs": [
        {
          "output_type": "stream",
          "text": [
            "Size of dataset (7113, 22)\n"
          ],
          "name": "stdout"
        },
        {
          "output_type": "execute_result",
          "data": {
            "text/html": [
              "<div>\n",
              "<style scoped>\n",
              "    .dataframe tbody tr th:only-of-type {\n",
              "        vertical-align: middle;\n",
              "    }\n",
              "\n",
              "    .dataframe tbody tr th {\n",
              "        vertical-align: top;\n",
              "    }\n",
              "\n",
              "    .dataframe thead th {\n",
              "        text-align: right;\n",
              "    }\n",
              "</style>\n",
              "<table border=\"1\" class=\"dataframe\">\n",
              "  <thead>\n",
              "    <tr style=\"text-align: right;\">\n",
              "      <th></th>\n",
              "      <th>UpdatedAt</th>\n",
              "      <th>customerID</th>\n",
              "      <th>gender</th>\n",
              "      <th>SeniorCitizen</th>\n",
              "      <th>Partner</th>\n",
              "      <th>Dependents</th>\n",
              "      <th>tenure</th>\n",
              "      <th>PhoneService</th>\n",
              "      <th>MultipleLines</th>\n",
              "      <th>InternetService</th>\n",
              "      <th>OnlineSecurity</th>\n",
              "      <th>OnlineBackup</th>\n",
              "      <th>DeviceProtection</th>\n",
              "      <th>TechSupport</th>\n",
              "      <th>StreamingTV</th>\n",
              "      <th>StreamingMovies</th>\n",
              "      <th>Contract</th>\n",
              "      <th>PaperlessBilling</th>\n",
              "      <th>PaymentMethod</th>\n",
              "      <th>MonthlyCharges</th>\n",
              "      <th>TotalCharges</th>\n",
              "      <th>Churn</th>\n",
              "    </tr>\n",
              "  </thead>\n",
              "  <tbody>\n",
              "    <tr>\n",
              "      <th>0</th>\n",
              "      <td>202006</td>\n",
              "      <td>45759018157</td>\n",
              "      <td>Female</td>\n",
              "      <td>0</td>\n",
              "      <td>Yes</td>\n",
              "      <td>No</td>\n",
              "      <td>1.0</td>\n",
              "      <td>No</td>\n",
              "      <td>No phone service</td>\n",
              "      <td>DSL</td>\n",
              "      <td>No</td>\n",
              "      <td>Yes</td>\n",
              "      <td>No</td>\n",
              "      <td>No</td>\n",
              "      <td>No</td>\n",
              "      <td>No</td>\n",
              "      <td>Month-to-month</td>\n",
              "      <td>Yes</td>\n",
              "      <td>Electronic check</td>\n",
              "      <td>29.85</td>\n",
              "      <td>29.85</td>\n",
              "      <td>No</td>\n",
              "    </tr>\n",
              "    <tr>\n",
              "      <th>1</th>\n",
              "      <td>202006</td>\n",
              "      <td>45557574145</td>\n",
              "      <td>Male</td>\n",
              "      <td>0</td>\n",
              "      <td>No</td>\n",
              "      <td>No</td>\n",
              "      <td>34.0</td>\n",
              "      <td>Yes</td>\n",
              "      <td>No</td>\n",
              "      <td>DSL</td>\n",
              "      <td>Yes</td>\n",
              "      <td>No</td>\n",
              "      <td>Yes</td>\n",
              "      <td>No</td>\n",
              "      <td>No</td>\n",
              "      <td>No</td>\n",
              "      <td>One year</td>\n",
              "      <td>No</td>\n",
              "      <td>Mailed check</td>\n",
              "      <td>56.95</td>\n",
              "      <td>1889.50</td>\n",
              "      <td>No</td>\n",
              "    </tr>\n",
              "    <tr>\n",
              "      <th>2</th>\n",
              "      <td>202006</td>\n",
              "      <td>45366876421</td>\n",
              "      <td>Male</td>\n",
              "      <td>0</td>\n",
              "      <td>No</td>\n",
              "      <td>No</td>\n",
              "      <td>2.0</td>\n",
              "      <td>Yes</td>\n",
              "      <td>No</td>\n",
              "      <td>DSL</td>\n",
              "      <td>Yes</td>\n",
              "      <td>Yes</td>\n",
              "      <td>No</td>\n",
              "      <td>No</td>\n",
              "      <td>No</td>\n",
              "      <td>No</td>\n",
              "      <td>Month-to-month</td>\n",
              "      <td>Yes</td>\n",
              "      <td>Mailed check</td>\n",
              "      <td>53.85</td>\n",
              "      <td>108.15</td>\n",
              "      <td>Yes</td>\n",
              "    </tr>\n",
              "    <tr>\n",
              "      <th>3</th>\n",
              "      <td>202006</td>\n",
              "      <td>45779536532</td>\n",
              "      <td>Male</td>\n",
              "      <td>0</td>\n",
              "      <td>No</td>\n",
              "      <td>No</td>\n",
              "      <td>45.0</td>\n",
              "      <td>No</td>\n",
              "      <td>No phone service</td>\n",
              "      <td>DSL</td>\n",
              "      <td>Yes</td>\n",
              "      <td>No</td>\n",
              "      <td>Yes</td>\n",
              "      <td>Yes</td>\n",
              "      <td>No</td>\n",
              "      <td>No</td>\n",
              "      <td>One year</td>\n",
              "      <td>No</td>\n",
              "      <td>Bank transfer (automatic)</td>\n",
              "      <td>42.30</td>\n",
              "      <td>1840.75</td>\n",
              "      <td>No</td>\n",
              "    </tr>\n",
              "    <tr>\n",
              "      <th>4</th>\n",
              "      <td>202006</td>\n",
              "      <td>45923787906</td>\n",
              "      <td>Female</td>\n",
              "      <td>0</td>\n",
              "      <td>No</td>\n",
              "      <td>No</td>\n",
              "      <td>2.0</td>\n",
              "      <td>Yes</td>\n",
              "      <td>No</td>\n",
              "      <td>Fiber optic</td>\n",
              "      <td>No</td>\n",
              "      <td>No</td>\n",
              "      <td>No</td>\n",
              "      <td>No</td>\n",
              "      <td>No</td>\n",
              "      <td>No</td>\n",
              "      <td>Month-to-month</td>\n",
              "      <td>Yes</td>\n",
              "      <td>Electronic check</td>\n",
              "      <td>70.70</td>\n",
              "      <td>151.65</td>\n",
              "      <td>Yes</td>\n",
              "    </tr>\n",
              "  </tbody>\n",
              "</table>\n",
              "</div>"
            ],
            "text/plain": [
              "   UpdatedAt   customerID  gender  SeniorCitizen Partner Dependents  tenure  \\\n",
              "0     202006  45759018157  Female              0     Yes         No     1.0   \n",
              "1     202006  45557574145    Male              0      No         No    34.0   \n",
              "2     202006  45366876421    Male              0      No         No     2.0   \n",
              "3     202006  45779536532    Male              0      No         No    45.0   \n",
              "4     202006  45923787906  Female              0      No         No     2.0   \n",
              "\n",
              "  PhoneService     MultipleLines InternetService OnlineSecurity OnlineBackup  \\\n",
              "0           No  No phone service             DSL             No          Yes   \n",
              "1          Yes                No             DSL            Yes           No   \n",
              "2          Yes                No             DSL            Yes          Yes   \n",
              "3           No  No phone service             DSL            Yes           No   \n",
              "4          Yes                No     Fiber optic             No           No   \n",
              "\n",
              "  DeviceProtection TechSupport StreamingTV StreamingMovies        Contract  \\\n",
              "0               No          No          No              No  Month-to-month   \n",
              "1              Yes          No          No              No        One year   \n",
              "2               No          No          No              No  Month-to-month   \n",
              "3              Yes         Yes          No              No        One year   \n",
              "4               No          No          No              No  Month-to-month   \n",
              "\n",
              "  PaperlessBilling              PaymentMethod  MonthlyCharges  TotalCharges  \\\n",
              "0              Yes           Electronic check           29.85         29.85   \n",
              "1               No               Mailed check           56.95       1889.50   \n",
              "2              Yes               Mailed check           53.85        108.15   \n",
              "3               No  Bank transfer (automatic)           42.30       1840.75   \n",
              "4              Yes           Electronic check           70.70        151.65   \n",
              "\n",
              "  Churn  \n",
              "0    No  \n",
              "1    No  \n",
              "2   Yes  \n",
              "3    No  \n",
              "4   Yes  "
            ]
          },
          "metadata": {},
          "execution_count": 2
        }
      ]
    },
    {
      "cell_type": "code",
      "metadata": {
        "colab": {
          "base_uri": "https://localhost:8080/"
        },
        "id": "gBepCrGavTl-",
        "outputId": "ca075ffd-5ef4-46fd-a2bf-98c98b85ddb0"
      },
      "source": [
        "print(df_load.customerID.nunique())"
      ],
      "execution_count": null,
      "outputs": [
        {
          "output_type": "stream",
          "text": [
            "7017\n"
          ],
          "name": "stdout"
        }
      ]
    },
    {
      "cell_type": "markdown",
      "metadata": {
        "id": "JeHq6DGgycP1"
      },
      "source": [
        "**Filtering `customerID` with certain formats**\n",
        "\n",
        "Look for the correct `customerID` (customer phone number) format, with the following criteria:\n",
        "* character length is 11 to 12,\n",
        "* consists of numbers only, no characters other than numbers are allowed,\n",
        "* checkers start with the number 45 which is the first two digits.\n",
        "\n",
        "I am using `.count()` function to count the number of `Customer ID` rows, `.str.match()` and `regex` to match the criteria above, and `astype()` to change the data type to numeric."
      ]
    },
    {
      "cell_type": "code",
      "metadata": {
        "colab": {
          "base_uri": "https://localhost:8080/"
        },
        "id": "1hClJphQ0YDK",
        "outputId": "75d42dca-723f-4152-b055-fe4380b374a6"
      },
      "source": [
        "df_load['valid_id'] = df_load['customerID'].astype(str).str.match(r'(45\\d{9,10})')\n",
        "df_load = (df_load[df_load['valid_id'] == True]).drop('valid_id', axis = 1)\n",
        "print('The result of the filtered number of Customer IDs is',df_load['customerID'].count())"
      ],
      "execution_count": null,
      "outputs": [
        {
          "output_type": "stream",
          "text": [
            "The result of the filtered number of Customer IDs is 7006\n"
          ],
          "name": "stdout"
        }
      ]
    },
    {
      "cell_type": "markdown",
      "metadata": {
        "id": "Evc0mNrc3rkM"
      },
      "source": [
        "**Filtering Duplicate `CustomerID`**\n",
        "\n",
        "I will make sure that there are no duplicate values of `customer_ID`. Usually, the type of duplicate `CustomerID` are\n",
        "* duplication due to inserting more than once with the same value for each column\n",
        "* duplication due to inserting different data retrieval period\n",
        "\n",
        "I am using the result of processing in the previous step to be processed in this step. I am also using `drop_duplicates()` function to remove duplicate rows, and `sort_values()` to check the last recorded data."
      ]
    },
    {
      "cell_type": "code",
      "metadata": {
        "colab": {
          "base_uri": "https://localhost:8080/"
        },
        "id": "ion5UHxk1eh8",
        "outputId": "4f2a8b63-e1fc-48a5-e2e9-965168555a6d"
      },
      "source": [
        "# Drop Duplicate Rows\n",
        "df_load.drop_duplicates()\n",
        "\n",
        "# Drop duplicate ID sorted by Periode\n",
        "df_load = df_load.sort_values('UpdatedAt', ascending=False).drop_duplicates(['customerID'])\n",
        "\n",
        "print('The number of `CustomerID` that has been removed (distinct) are',df_load['customerID'].count())"
      ],
      "execution_count": null,
      "outputs": [
        {
          "output_type": "stream",
          "text": [
            "The number of `CustomerID` that has been removed (distinct) are 6993\n"
          ],
          "name": "stdout"
        }
      ]
    },
    {
      "cell_type": "markdown",
      "metadata": {
        "id": "G966NNKj8yiy"
      },
      "source": [
        "The validity of `CustomerID` is needed to ensure that the data I retrieve is correct. Based on those results, there are differences in the number of `CustomerID` from the first data loaded to the final result. The number of rows of data when it was first loaded was 7113 rows and 22 columns with 7017 unique `CustomerID` numbers. Then after checking the validity of `CustomerID`, the remaining 6993 rows of data."
      ]
    },
    {
      "cell_type": "markdown",
      "metadata": {
        "id": "15tU_LKg9sm0"
      },
      "source": [
        "**Handle missing values by deleting rows**\n",
        "\n",
        "The next step, I am deleting rows from data that is not detected whether the customer churned or not. It is assumed that the data modeller only accepts data that has churn flag or not. I am using `isnull()` to detect missing values and `dropna()` to remove missing values"
      ]
    },
    {
      "cell_type": "code",
      "metadata": {
        "colab": {
          "base_uri": "https://localhost:8080/"
        },
        "id": "a6IvCfmE_e8p",
        "outputId": "ddd2ce0e-9df6-42bb-c176-73cd2dea8fd3"
      },
      "source": [
        "print('Total missing values data from the Churn column are',df_load['Churn'].isnull().sum())\n",
        "\n",
        "# Dropping all Rows with spesific column\n",
        "df_load.dropna(subset=['Churn'],inplace=True)\n",
        "\n",
        "print('Total rows and columns of the data after missing values deleted are',df_load.shape)"
      ],
      "execution_count": null,
      "outputs": [
        {
          "output_type": "stream",
          "text": [
            "Total missing values data from the Churn column are 43\n",
            "Total rows and columns of the data after missing values deleted are (6950, 22)\n"
          ],
          "name": "stdout"
        }
      ]
    },
    {
      "cell_type": "markdown",
      "metadata": {
        "id": "vKRsN-FbA51D"
      },
      "source": [
        "**Handle missing values by filling in certain values**\n",
        "\n",
        "In addition to removing rows from the data, handling missing values can use certain values. It is assumed that the data modeler requires filling in the missing values with the following criterias:\n",
        "* `tenure` of data modeller requires that each row that has missing values for the length of the subscription be filled with 11,\n",
        "* and the other numeric variables are filled with the median of each variables."
      ]
    },
    {
      "cell_type": "code",
      "metadata": {
        "colab": {
          "base_uri": "https://localhost:8080/"
        },
        "id": "uK5y8W3uChEd",
        "outputId": "219b60f8-c82a-4b05-e1f6-caefb1f4f69b"
      },
      "source": [
        "print('Status of Missing Values is',df_load.isnull().values.any())\n",
        "print('\\nThe number of missing values for each column is')\n",
        "print(df_load.isnull().sum().sort_values(ascending=False))\n",
        "\n",
        "# Handling missing values Tenure fill with 11\n",
        "df_load['tenure'].fillna(11, inplace=True)\n",
        "\n",
        "# Handling missing values num vars (except Tenure)\n",
        "for col_name in list(['MonthlyCharges','TotalCharges']):\n",
        "\tmedian = df_load[col_name].median()\n",
        "\tdf_load[col_name].fillna(median, inplace=True)\n",
        "\n",
        "print('\\nThe number of missing values after imputering the data is')\n",
        "print(df_load.isnull().sum().sort_values(ascending=False))"
      ],
      "execution_count": null,
      "outputs": [
        {
          "output_type": "stream",
          "text": [
            "Status of Missing Values is False\n",
            "\n",
            "The number of missing values for each column is\n",
            "Churn               0\n",
            "TotalCharges        0\n",
            "customerID          0\n",
            "gender              0\n",
            "SeniorCitizen       0\n",
            "Partner             0\n",
            "Dependents          0\n",
            "tenure              0\n",
            "PhoneService        0\n",
            "MultipleLines       0\n",
            "InternetService     0\n",
            "OnlineSecurity      0\n",
            "OnlineBackup        0\n",
            "DeviceProtection    0\n",
            "TechSupport         0\n",
            "StreamingTV         0\n",
            "StreamingMovies     0\n",
            "Contract            0\n",
            "PaperlessBilling    0\n",
            "PaymentMethod       0\n",
            "MonthlyCharges      0\n",
            "UpdatedAt           0\n",
            "dtype: int64\n",
            "\n",
            "The number of missing values after imputering the data is\n",
            "Churn               0\n",
            "TotalCharges        0\n",
            "customerID          0\n",
            "gender              0\n",
            "SeniorCitizen       0\n",
            "Partner             0\n",
            "Dependents          0\n",
            "tenure              0\n",
            "PhoneService        0\n",
            "MultipleLines       0\n",
            "InternetService     0\n",
            "OnlineSecurity      0\n",
            "OnlineBackup        0\n",
            "DeviceProtection    0\n",
            "TechSupport         0\n",
            "StreamingTV         0\n",
            "StreamingMovies     0\n",
            "Contract            0\n",
            "PaperlessBilling    0\n",
            "PaymentMethod       0\n",
            "MonthlyCharges      0\n",
            "UpdatedAt           0\n",
            "dtype: int64\n"
          ],
          "name": "stdout"
        }
      ]
    },
    {
      "cell_type": "markdown",
      "metadata": {
        "id": "xOTGSjwkEjoD"
      },
      "source": [
        "After further analysis, it turns out that there were missing values from the data that I had validated for `CustomerID`. Missing values were found in the `Churn`, `tenure`, `MonthlyCharges` and `TotalCharges` columns. Then after I handled them by deleting rows and filling rows with certain values, they were proven no more missing values in the data, as evidenced by the number of missing values for each variable which is worth 0. "
      ]
    },
    {
      "cell_type": "markdown",
      "metadata": {
        "id": "lIMCP5fbFFf6"
      },
      "source": [
        "**Boxplot: detect outliers**\n",
        "\n",
        "One way to detect outliers from a value is to look at the plot of the data using a boxplot which is a summary of the sample distribution presented graphically that can describe the shape of the data distribution (skewness), a measure of central tendency, and a measure of the spread (variety) of observational data.\n",
        "\n",
        "I am using matplotlib and seaborn packages to visualize boxplot of data. `describe()` function is used to view the data description."
      ]
    },
    {
      "cell_type": "code",
      "metadata": {
        "colab": {
          "base_uri": "https://localhost:8080/",
          "height": 973
        },
        "id": "Ay6rjpHkH-B0",
        "outputId": "3a7226d6-e2cb-4455-9f51-5d0fe01d5903"
      },
      "source": [
        "print('Distribution of data before outliers are handled')\n",
        "print(df_load[['tenure','MonthlyCharges','TotalCharges']].describe())\n",
        "\n",
        "# Creating Box Plot\n",
        "import matplotlib.pyplot as plt\n",
        "import seaborn as sns\n",
        "\n",
        "# Insert variable\n",
        "plt.figure() # make a new figure\n",
        "sns.boxplot(x=df_load['tenure'])\n",
        "plt.show()\n",
        "plt.figure() # make a new figure\n",
        "sns.boxplot(x=df_load['MonthlyCharges'])\n",
        "plt.show()\n",
        "plt.figure() # make a new figure\n",
        "sns.boxplot(x=df_load['TotalCharges'])\n",
        "plt.show()"
      ],
      "execution_count": null,
      "outputs": [
        {
          "output_type": "stream",
          "text": [
            "Distribution of data before outliers are handled\n",
            "            tenure  MonthlyCharges  TotalCharges\n",
            "count  6950.000000     6950.000000   6950.000000\n",
            "mean     32.477266       65.783741   2305.083460\n",
            "std      25.188910       50.457871   2578.651143\n",
            "min       0.000000        0.000000     19.000000\n",
            "25%       9.000000       36.462500    406.975000\n",
            "50%      29.000000       70.450000   1400.850000\n",
            "75%      55.000000       89.850000   3799.837500\n",
            "max     500.000000     2311.000000  80000.000000\n"
          ],
          "name": "stdout"
        },
        {
          "output_type": "display_data",
          "data": {
            "image/png": "[encoded data removed]",
            "text/plain": [
              "<Figure size 432x288 with 1 Axes>"
            ]
          },
          "metadata": {
            "needs_background": "light"
          }
        },
        {
          "output_type": "display_data",
          "data": {
            "image/png": "[encoded data removed]",
            "text/plain": [
              "<Figure size 432x288 with 1 Axes>"
            ]
          },
          "metadata": {
            "needs_background": "light"
          }
        },
        {
          "output_type": "display_data",
          "data": {
            "image/png": "[encoded data removed]",
            "text/plain": [
              "<Figure size 432x288 with 1 Axes>"
            ]
          },
          "metadata": {
            "needs_background": "light"
          }
        }
      ]
    },
    {
      "cell_type": "markdown",
      "metadata": {
        "id": "ENVz45nAIjxS"
      },
      "source": [
        "**Handle outliers**\n",
        "\n",
        "After knowing which variables have outliers, then I am handling the outliers using the interquartile range (IQR) method.\n",
        "\n",
        "I am using the result of processing in the previous step to be processed in this step. I also use the `quantile()` function to see a specific quantile and `mask()` to replace the values."
      ]
    },
    {
      "cell_type": "code",
      "metadata": {
        "colab": {
          "base_uri": "https://localhost:8080/"
        },
        "id": "6t6Zl3s1J4qF",
        "outputId": "bf334377-c9f0-4cc2-8913-39779dce0dbc"
      },
      "source": [
        "# Handle with IQR\n",
        "Q1 = (df_load[['tenure','MonthlyCharges','TotalCharges']]).quantile(0.25)\n",
        "Q3 = (df_load[['tenure','MonthlyCharges','TotalCharges']]).quantile(0.75)\n",
        "\n",
        "IQR = Q3 - Q1\n",
        "maximum = Q3 + (1.5*IQR)\n",
        "print('The maximum value of each variable')\n",
        "print(maximum)\n",
        "minimum = Q1 - (1.5*IQR)\n",
        "print('\\nThe minimum value of each variable')\n",
        "print(minimum)\n",
        "\n",
        "more_than = (df_load > maximum)\n",
        "lower_than = (df_load < minimum)\n",
        "df_load = df_load.mask(more_than, maximum, axis=1)\n",
        "df_load = df_load.mask(lower_than, minimum, axis=1)\n",
        "\n",
        "print('\\nDistribution of data after outliers handled')\n",
        "print(df_load[['tenure','MonthlyCharges','TotalCharges']].describe())"
      ],
      "execution_count": null,
      "outputs": [
        {
          "output_type": "stream",
          "text": [
            "The maximum value of each variable\n",
            "tenure             124.00000\n",
            "MonthlyCharges     169.93125\n",
            "TotalCharges      8889.13125\n",
            "dtype: float64\n",
            "\n",
            "The minimum value of each variable\n",
            "tenure             -60.00000\n",
            "MonthlyCharges     -43.61875\n",
            "TotalCharges     -4682.31875\n",
            "dtype: float64\n",
            "\n",
            "Distribution of data after outliers handled\n",
            "            tenure  MonthlyCharges  TotalCharges\n",
            "count  6950.000000     6950.000000   6950.000000\n",
            "mean     32.423165       64.992201   2286.058750\n",
            "std      24.581073       30.032040   2265.702553\n",
            "min       0.000000        0.000000     19.000000\n",
            "25%       9.000000       36.462500    406.975000\n",
            "50%      29.000000       70.450000   1400.850000\n",
            "75%      55.000000       89.850000   3799.837500\n",
            "max     124.000000      169.931250   8889.131250\n"
          ],
          "name": "stdout"
        }
      ]
    },
    {
      "cell_type": "markdown",
      "metadata": {
        "id": "th2AhH58OA6U"
      },
      "source": [
        "From the three boxplots of `tenure`, `MonthlyCharges`, and `TotalCharges` clearly indicated there were outliers. This can be identified from the points that are far from the boxplot image. Then if I look at the distribution of the data from the `max` column, there is also a very high value of max.\n",
        "\n",
        "Then the outlier values are handled by changing its value to the maximum and minimum values of the interquartile range (IQR). After handling the outliers, and looking at the spread of the data, it appears that there are no more outlier values."
      ]
    },
    {
      "cell_type": "markdown",
      "metadata": {
        "id": "u245yBP3QwoU"
      },
      "source": [
        "**Detect non-standard values**\n",
        "\n",
        "Detects whether there are values of non-standard in categorical variables. This usually occurs due to errors in data input. The difference in terms used is one of the factors that often occur, for that I need standardization of the data that has been inputted. I am using the `value_counts()` function to see the number of unique values per variables."
      ]
    },
    {
      "cell_type": "code",
      "metadata": {
        "colab": {
          "base_uri": "https://localhost:8080/"
        },
        "id": "FTafdGLkRhg7",
        "outputId": "02775e0c-091a-4ea5-bd77-968e55dcf500"
      },
      "source": [
        "# Input variables\n",
        "for col_name in list(['gender','SeniorCitizen','Partner','Dependents','PhoneService','MultipleLines','InternetService','OnlineSecurity','OnlineBackup','DeviceProtection','TechSupport','StreamingTV','StreamingMovies','Contract','PaperlessBilling','PaymentMethod','Churn']):\n",
        "    print('\\nUnique Values Count \\033[1m' + 'Before Standardized \\033[0m Variable',col_name)\n",
        "    print(df_load[col_name].value_counts())"
      ],
      "execution_count": null,
      "outputs": [
        {
          "output_type": "stream",
          "text": [
            "\n",
            "Unique Values Count \u001b[1mBefore Standardized \u001b[0m Variable gender\n",
            "Male         3499\n",
            "Female       3431\n",
            "Wanita         14\n",
            "Laki-Laki       6\n",
            "Name: gender, dtype: int64\n",
            "\n",
            "Unique Values Count \u001b[1mBefore Standardized \u001b[0m Variable SeniorCitizen\n",
            "0    5822\n",
            "1    1128\n",
            "Name: SeniorCitizen, dtype: int64\n",
            "\n",
            "Unique Values Count \u001b[1mBefore Standardized \u001b[0m Variable Partner\n",
            "No     3591\n",
            "Yes    3359\n",
            "Name: Partner, dtype: int64\n",
            "\n",
            "Unique Values Count \u001b[1mBefore Standardized \u001b[0m Variable Dependents\n",
            "No     4870\n",
            "Yes    2060\n",
            "Iya      20\n",
            "Name: Dependents, dtype: int64\n",
            "\n",
            "Unique Values Count \u001b[1mBefore Standardized \u001b[0m Variable PhoneService\n",
            "Yes    6281\n",
            "No      669\n",
            "Name: PhoneService, dtype: int64\n",
            "\n",
            "Unique Values Count \u001b[1mBefore Standardized \u001b[0m Variable MultipleLines\n",
            "No                  3346\n",
            "Yes                 2935\n",
            "No phone service     669\n",
            "Name: MultipleLines, dtype: int64\n",
            "\n",
            "Unique Values Count \u001b[1mBefore Standardized \u001b[0m Variable InternetService\n",
            "Fiber optic    3057\n",
            "DSL            2388\n",
            "No             1505\n",
            "Name: InternetService, dtype: int64\n",
            "\n",
            "Unique Values Count \u001b[1mBefore Standardized \u001b[0m Variable OnlineSecurity\n",
            "No                     3454\n",
            "Yes                    1991\n",
            "No internet service    1505\n",
            "Name: OnlineSecurity, dtype: int64\n",
            "\n",
            "Unique Values Count \u001b[1mBefore Standardized \u001b[0m Variable OnlineBackup\n",
            "No                     3045\n",
            "Yes                    2400\n",
            "No internet service    1505\n",
            "Name: OnlineBackup, dtype: int64\n",
            "\n",
            "Unique Values Count \u001b[1mBefore Standardized \u001b[0m Variable DeviceProtection\n",
            "No                     3054\n",
            "Yes                    2391\n",
            "No internet service    1505\n",
            "Name: DeviceProtection, dtype: int64\n",
            "\n",
            "Unique Values Count \u001b[1mBefore Standardized \u001b[0m Variable TechSupport\n",
            "No                     3431\n",
            "Yes                    2014\n",
            "No internet service    1505\n",
            "Name: TechSupport, dtype: int64\n",
            "\n",
            "Unique Values Count \u001b[1mBefore Standardized \u001b[0m Variable StreamingTV\n",
            "No                     2774\n",
            "Yes                    2671\n",
            "No internet service    1505\n",
            "Name: StreamingTV, dtype: int64\n",
            "\n",
            "Unique Values Count \u001b[1mBefore Standardized \u001b[0m Variable StreamingMovies\n",
            "No                     2747\n",
            "Yes                    2698\n",
            "No internet service    1505\n",
            "Name: StreamingMovies, dtype: int64\n",
            "\n",
            "Unique Values Count \u001b[1mBefore Standardized \u001b[0m Variable Contract\n",
            "Month-to-month    3823\n",
            "Two year          1670\n",
            "One year          1457\n",
            "Name: Contract, dtype: int64\n",
            "\n",
            "Unique Values Count \u001b[1mBefore Standardized \u001b[0m Variable PaperlessBilling\n",
            "Yes    4114\n",
            "No     2836\n",
            "Name: PaperlessBilling, dtype: int64\n",
            "\n",
            "Unique Values Count \u001b[1mBefore Standardized \u001b[0m Variable PaymentMethod\n",
            "Electronic check             2337\n",
            "Mailed check                 1594\n",
            "Bank transfer (automatic)    1519\n",
            "Credit card (automatic)      1500\n",
            "Name: PaymentMethod, dtype: int64\n",
            "\n",
            "Unique Values Count \u001b[1mBefore Standardized \u001b[0m Variable Churn\n",
            "No       5114\n",
            "Yes      1827\n",
            "Churn       9\n",
            "Name: Churn, dtype: int64\n"
          ],
          "name": "stdout"
        }
      ]
    },
    {
      "cell_type": "markdown",
      "metadata": {
        "id": "jBMOyg3mTCR0"
      },
      "source": [
        "Standardize categorical variables\n",
        "\n",
        "After I knew which variables have non-standard values, then I am standardizing them with the most patterns, provided that they don't change their meaning. Example: Yes -> Yes\n",
        "\n",
        "Then I looked back at the unique values of each variable that had been changed. I am using `replace()` function to standardize the values."
      ]
    },
    {
      "cell_type": "code",
      "metadata": {
        "colab": {
          "base_uri": "https://localhost:8080/"
        },
        "id": "DnXsQI3tTxjs",
        "outputId": "bc9a94a7-85aa-423e-e7e6-c475061524bc"
      },
      "source": [
        "df_load = df_load.replace(['Wanita','Laki-Laki','Churn','Iya'],['Female','Male','Yes','Yes'])\n",
        "\n",
        "# Input variable\n",
        "for col_name in list(['gender','Dependents','Churn']):\n",
        "    print('\\nUnique Values Count \\033[1m' + 'After Standardized \\033[0mVariable',col_name)\n",
        "    print(df_load[col_name].value_counts())"
      ],
      "execution_count": null,
      "outputs": [
        {
          "output_type": "stream",
          "text": [
            "\n",
            "Unique Values Count \u001b[1mAfter Standardized \u001b[0mVariable gender\n",
            "Male      3505\n",
            "Female    3445\n",
            "Name: gender, dtype: int64\n",
            "\n",
            "Unique Values Count \u001b[1mAfter Standardized \u001b[0mVariable Dependents\n",
            "No     4870\n",
            "Yes    2080\n",
            "Name: Dependents, dtype: int64\n",
            "\n",
            "Unique Values Count \u001b[1mAfter Standardized \u001b[0mVariable Churn\n",
            "No     5114\n",
            "Yes    1836\n",
            "Name: Churn, dtype: int64\n"
          ],
          "name": "stdout"
        }
      ]
    },
    {
      "cell_type": "markdown",
      "metadata": {
        "id": "5SbIczLsUnWN"
      },
      "source": [
        "When I look further from the number of unique values of each categorical variable, that there clearly are some variables that are non-standard. Those variables are:\n",
        "* `Gender` (Female, Male, Wanita, Laku-Laki), which can be standardized to (Female, Male) because they have same meaning.\n",
        "* `Dependents` (Yes, No, Iya), which can be standardized to (Yes, No) because they have same meaning.\n",
        "* `Churn` (Yes, No, Churn), which can be standardized to (Yes, No) because they have same meaning.\n",
        "\n",
        "After I just standardized the value, and I looked back at the shape of the data, it was standardized well for the unique values."
      ]
    }
  ]
}